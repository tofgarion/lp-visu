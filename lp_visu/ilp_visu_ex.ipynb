{
 "cells": [
  {
   "cell_type": "markdown",
   "metadata": {
    "ein.tags": "worksheet-0",
    "slideshow": {
     "slide_type": "-"
    }
   },
   "source": [
    "You can use LPVisu to visualize Integer Linear Programming problems in Jupyter notebooks. First import the `LPVisu` class:"
   ]
  },
  {
   "cell_type": "code",
   "execution_count": null,
   "metadata": {
    "autoscroll": false,
    "collapsed": false,
    "ein.hycell": false,
    "ein.tags": "worksheet-0",
    "slideshow": {
     "slide_type": "-"
    }
   },
   "outputs": [],
   "source": [
    "from lp_visu import LPVisu"
   ]
  },
  {
   "cell_type": "markdown",
   "metadata": {
    "ein.tags": "worksheet-0",
    "slideshow": {
     "slide_type": "-"
    }
   },
   "source": [
    "You can then define a problem:"
   ]
  },
  {
   "cell_type": "code",
   "execution_count": null,
   "metadata": {
    "autoscroll": false,
    "collapsed": false,
    "ein.hycell": false,
    "ein.tags": "worksheet-0",
    "slideshow": {
     "slide_type": "-"
    }
   },
   "outputs": [],
   "source": [
    "# problem definition\n",
    "A = [[1.0, 0.0], [1.0, 2.0], [2.0, 1.0]]\n",
    "b = [8.0, 15.0, 18.0]\n",
    "c = [-4.0, -3.0]\n",
    "\n",
    "x1_bounds = (0, None)\n",
    "x2_bounds = (0, None)\n",
    "\n",
    "# GUI bounds\n",
    "x1_gui_bounds = (-1, 16)\n",
    "x2_gui_bounds = (-1, 10)"
   ]
  },
  {
   "cell_type": "markdown",
   "metadata": {
    "ein.tags": "worksheet-0",
    "slideshow": {
     "slide_type": "-"
    }
   },
   "source": [
    "To draw the polygon, create an object of type `LPVisu`. Do not forget to use the `notebook` parameter. Use the `integers` parameter to draw integers inside the polygon."
   ]
  },
  {
   "cell_type": "code",
   "execution_count": null,
   "metadata": {
    "autoscroll": false,
    "collapsed": false,
    "ein.hycell": false,
    "ein.tags": "worksheet-0",
    "slideshow": {
     "slide_type": "-"
    }
   },
   "outputs": [],
   "source": [
    "visu = LPVisu(A, b, c,\n",
    "              x1_bounds, x2_bounds,\n",
    "              x1_gui_bounds, x2_gui_bounds,\n",
    "              notebook = True, scale = 0.8,\n",
    "              integers = True)"
   ]
  },
  {
   "cell_type": "markdown",
   "metadata": {
    "ein.tags": "worksheet-0",
    "slideshow": {
     "slide_type": "-"
    }
   },
   "source": [
    "You can add cuts with the `A_cuts` and `b_cuts` parameters."
   ]
  },
  {
   "cell_type": "code",
   "execution_count": null,
   "metadata": {
    "autoscroll": false,
    "collapsed": false,
    "ein.hycell": false,
    "ein.tags": "worksheet-0",
    "slideshow": {
     "slide_type": "-"
    }
   },
   "outputs": [],
   "source": [
    "visu = LPVisu(A, b, c,\n",
    "              x1_bounds, x2_bounds,\n",
    "              x1_gui_bounds, x2_gui_bounds,\n",
    "              notebook = True, scale = 0.8,\n",
    "              A_cuts = [[0.0, 1.0]], b_cuts = [6.0], integers = True)"
   ]
  }
 ],
 "metadata": {
  "kernelspec": {
   "argv": [
    "python",
    "-m",
    "ipykernel_launcher",
    "-f",
    "{connection_file}"
   ],
   "display_name": "Python 3",
   "env": null,
   "interrupt_mode": "signal",
   "language": "python",
   "metadata": null,
   "name": "python3"
  },
  "name": "ilp_visu_ex.ipynb"
 },
 "nbformat": 4,
 "nbformat_minor": 2
}
