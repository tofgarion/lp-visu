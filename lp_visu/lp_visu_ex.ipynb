{
 "cells": [
  {
   "cell_type": "markdown",
   "metadata": {
    "ein.tags": "worksheet-0",
    "slideshow": {
     "slide_type": "-"
    }
   },
   "source": [
    "This is a simple Jupyter Notebook example presenting how to use the LPVisu class.\n",
    "\n",
    "First, import `LPVisu` class and necessary Python packages:"
   ]
  },
  {
   "cell_type": "code",
   "execution_count": null,
   "metadata": {
    "autoscroll": false,
    "collapsed": false,
    "ein.hycell": false,
    "ein.tags": "worksheet-0",
    "slideshow": {
     "slide_type": "-"
    }
   },
   "outputs": [],
   "source": [
    "from lp_visu import LPVisu\n",
    "from scipy.optimize import linprog\n",
    "\n",
    "import numpy as np"
   ]
  },
  {
   "cell_type": "markdown",
   "metadata": {
    "ein.tags": "worksheet-0",
    "slideshow": {
     "slide_type": "-"
    }
   },
   "source": [
    "Define the problem:"
   ]
  },
  {
   "cell_type": "code",
   "execution_count": null,
   "metadata": {
    "autoscroll": false,
    "collapsed": false,
    "ein.hycell": false,
    "ein.tags": "worksheet-0",
    "slideshow": {
     "slide_type": "-"
    }
   },
   "outputs": [],
   "source": [
    "A = [[1.0, 0.0], [1.0, 2.0], [2.0, 1.0]]\n",
    "b = [8.0, 15.0, 18.0]\n",
    "c = [4.0, 3.0]"
   ]
  },
  {
   "cell_type": "markdown",
   "metadata": {
    "ein.tags": "worksheet-0",
    "slideshow": {
     "slide_type": "-"
    }
   },
   "source": [
    "Define the bounds for the two variables `x1` and `x2`, the GUI bounds and create the visualization object (add a \"fake\" pivot at (1, 2) and draw objective function for value 40):"
   ]
  },
  {
   "cell_type": "code",
   "execution_count": null,
   "metadata": {
    "autoscroll": false,
    "collapsed": false,
    "ein.hycell": false,
    "ein.tags": "worksheet-0",
    "slideshow": {
     "slide_type": "-"
    }
   },
   "outputs": [],
   "source": [
    "x1_bounds = (0, None)\n",
    "x2_bounds = (0, None)\n",
    "\n",
    "x1_gui_bounds = (-1, 16)\n",
    "x2_gui_bounds = (-1, 10)\n",
    "\n",
    "visu = LPVisu(A, b, c,\n",
    "              x1_bounds, x2_bounds,\n",
    "              x1_gui_bounds, x2_gui_bounds,\n",
    "              scale = 0.8, pivot_scale = 2.0,\n",
    "              xk = (1, 1), obj = 40)"
   ]
  },
  {
   "cell_type": "markdown",
   "metadata": {
    "ein.tags": "worksheet-0",
    "slideshow": {
     "slide_type": "-"
    }
   },
   "source": [
    "Define a simple callback function to be called at each step of the `linprog` simplexe algorithm. This callback function must use a `OptimizeResult` object as parameter:"
   ]
  },
  {
   "cell_type": "code",
   "execution_count": null,
   "metadata": {
    "autoscroll": false,
    "collapsed": false,
    "ein.hycell": false,
    "ein.tags": "worksheet-0",
    "slideshow": {
     "slide_type": "-"
    }
   },
   "outputs": [],
   "source": [
    "def lp_simple_callback(optimizeResult):\n",
    "    \"\"\"A simple callback function to see what is happening to print each\n",
    "    step of the algorithm and to use the visualization.\n",
    "\n",
    "    \"\"\"\n",
    "\n",
    "    print(\"current iteration: \" + str(optimizeResult[\"nit\"]))\n",
    "    print(\"current slack: \" + str(optimizeResult[\"slack\"]))\n",
    "    print(\"current solution: \" + str(optimizeResult[\"x\"]))\n",
    "    print()\n",
    "\n",
    "    LPVisu(A, b, c,\n",
    "           x1_bounds, x2_bounds,\n",
    "           x1_gui_bounds, x2_gui_bounds,\n",
    "           scale = 0.8, pivot_scale = 2.0,\n",
    "           xk = optimizeResult[\"x\"])"
   ]
  },
  {
   "cell_type": "markdown",
   "metadata": {
    "ein.tags": "worksheet-0",
    "slideshow": {
     "slide_type": "-"
    }
   },
   "source": [
    "Solve the problem using the callback function and print the result:"
   ]
  },
  {
   "cell_type": "code",
   "execution_count": null,
   "metadata": {
    "autoscroll": false,
    "collapsed": false,
    "ein.hycell": false,
    "ein.tags": "worksheet-0",
    "slideshow": {
     "slide_type": "-"
    }
   },
   "outputs": [],
   "source": [
    "res = linprog(-1.0 * np.array(c), A_ub=A, b_ub=b,\n",
    "              bounds=(x1_bounds, x2_bounds),\n",
    "              callback=lp_simple_callback,\n",
    "              options={\"disp\": True})\n",
    "\n",
    "print(res)"
   ]
  }
 ],
 "metadata": {
  "kernelspec": {
   "argv": [
    "python",
    "-m",
    "ipykernel_launcher",
    "-f",
    "{connection_file}"
   ],
   "display_name": "Python 3",
   "env": null,
   "interrupt_mode": "signal",
   "language": "python",
   "metadata": null,
   "name": "python3"
  },
  "name": "lp_visu_ex.ipynb"
 },
 "nbformat": 4,
 "nbformat_minor": 2
}
